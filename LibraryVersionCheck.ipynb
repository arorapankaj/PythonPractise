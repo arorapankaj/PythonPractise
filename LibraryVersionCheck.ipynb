{
 "cells": [
  {
   "cell_type": "code",
   "execution_count": 2,
   "metadata": {},
   "outputs": [],
   "source": [
    "# Checking versions of libraries\n",
    "import pandas as pd\n",
    "import sklearn\n",
    "import numpy as np\n",
    "import scipy as sp\n",
    "import matplotlib\n",
    "import sys\n",
    "import mglearn"
   ]
  },
  {
   "cell_type": "code",
   "execution_count": 11,
   "metadata": {},
   "outputs": [],
   "source": [
    "def print_version(library):\n",
    "    if library == sys:\n",
    "        print(\"{} version: {}\".format(library,library.version))\n",
    "    else:\n",
    "        print(\"{} version: {}\".format(library,library.__version__))"
   ]
  },
  {
   "cell_type": "code",
   "execution_count": 13,
   "metadata": {},
   "outputs": [
    {
     "name": "stdout",
     "output_type": "stream",
     "text": [
      "<module 'pandas' from 'C:\\\\ProgramData\\\\Anaconda3\\\\lib\\\\site-packages\\\\pandas\\\\__init__.py'> version: 0.24.2\n",
      "<module 'sklearn' from 'C:\\\\ProgramData\\\\Anaconda3\\\\lib\\\\site-packages\\\\sklearn\\\\__init__.py'> version: 0.21.2\n",
      "<module 'numpy' from 'C:\\\\ProgramData\\\\Anaconda3\\\\lib\\\\site-packages\\\\numpy\\\\__init__.py'> version: 1.16.4\n",
      "<module 'scipy' from 'C:\\\\ProgramData\\\\Anaconda3\\\\lib\\\\site-packages\\\\scipy\\\\__init__.py'> version: 1.2.1\n",
      "<module 'matplotlib' from 'C:\\\\ProgramData\\\\Anaconda3\\\\lib\\\\site-packages\\\\matplotlib\\\\__init__.py'> version: 3.1.0\n",
      "<module 'sys' (built-in)> version: 3.7.3 (default, Apr 24 2019, 15:29:51) [MSC v.1915 64 bit (AMD64)]\n",
      "<module 'mglearn' from 'C:\\\\ProgramData\\\\Anaconda3\\\\lib\\\\site-packages\\\\mglearn\\\\__init__.py'> version: 0.1.7\n"
     ]
    }
   ],
   "source": [
    "print_version(pd)\n",
    "print_version(sklearn)\n",
    "print_version(np)\n",
    "print_version(sp)\n",
    "print_version(matplotlib)\n",
    "print_version(sys)\n",
    "print_version(mglearn)"
   ]
  },
  {
   "cell_type": "code",
   "execution_count": null,
   "metadata": {},
   "outputs": [],
   "source": []
  }
 ],
 "metadata": {
  "kernelspec": {
   "display_name": "Python 3",
   "language": "python",
   "name": "python3"
  },
  "language_info": {
   "codemirror_mode": {
    "name": "ipython",
    "version": 3
   },
   "file_extension": ".py",
   "mimetype": "text/x-python",
   "name": "python",
   "nbconvert_exporter": "python",
   "pygments_lexer": "ipython3",
   "version": "3.7.3"
  }
 },
 "nbformat": 4,
 "nbformat_minor": 2
}
